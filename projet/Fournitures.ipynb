{
  "nbformat": 4,
  "nbformat_minor": 0,
  "metadata": {
    "accelerator": "GPU",
    "colab": {
      "name": "Fournitures.ipynb",
      "provenance": [],
      "collapsed_sections": [],
      "toc_visible": true,
      "machine_shape": "hm"
    },
    "kernelspec": {
      "display_name": "Python 3",
      "language": "python",
      "name": "python3"
    },
    "language_info": {
      "codemirror_mode": {
        "name": "ipython",
        "version": 3
      },
      "file_extension": ".py",
      "mimetype": "text/x-python",
      "name": "python",
      "nbconvert_exporter": "python",
      "pygments_lexer": "ipython3",
      "version": "3.8.5"
    }
  },
  "cells": [
    {
      "cell_type": "markdown",
      "metadata": {
        "id": "z3mdNJJXc6Wy"
      },
      "source": [
        "# Classification d'images de panneaux de signalisation routière.\n",
        "\n",
        "\n",
        "Dans ce projet, on s'intéresse au problème de reconnaître des images de panneaux de signalisations.\n",
        "\n",
        "![picture](https://drive.google.com/file/d/1s-x8CHaMQ8u3bdFlcjVk63jBI_OZfXEW/view?usp=sharing)\n",
        "\n",
        "Nous avons réparti les images dans 9 ensembles (et donc 3 dossiers): *train* , *validation* et *test*. Chacun de ces dossiers comporte un sous-dossier par classe, qui contient les images correspondantes. L'arborescence est résumée sur l'image ci-dessus.\n",
        "\n",
        "Nous avons choisi d'héberger la base de données sur Github : l'intérêt est qu'un **git clone** depuis Google Colab est très rapide, ce qui vous garantit une certaine simplicité. Je vous encourage à en faire de même."
      ]
    },
    {
      "cell_type": "code",
      "metadata": {
        "id": "n_OkpjrpFXXG",
        "colab": {
          "base_uri": "https://localhost:8080/"
        },
        "outputId": "ad968859-8ded-4bd3-9336-bbeb997d1def"
      },
      "source": [
        "!git clone https://github.com/houda99-hd/projet-apprentissage-profond.git\n",
        "path = \"./projet-apprentissage-profond/projet/\""
      ],
      "execution_count": null,
      "outputs": [
        {
          "output_type": "stream",
          "text": [
            "fatal: destination path 'projet-apprentissage-profond' already exists and is not an empty directory.\n"
          ],
          "name": "stdout"
        }
      ]
    },
    {
      "cell_type": "markdown",
      "metadata": {
        "id": "Wreqqmp-aTE7"
      },
      "source": [
        "###Chargement de base de données"
      ]
    },
    {
      "cell_type": "code",
      "metadata": {
        "id": "cgsPp7TZaTE8"
      },
      "source": [
        "import os\n",
        "import shutil\n",
        "\n",
        "import numpy as np\n",
        "import PIL\n",
        "from PIL import Image\n",
        "import os, sys\n",
        "from scipy.io import loadmat\n",
        "\n",
        "\n",
        "def load_data(data_path, classes, dataset='train', image_size=64):\n",
        "\n",
        "    num_images = 0\n",
        "    for i in range(len(classes)):\n",
        "        dirs = sorted(os.listdir(data_path + dataset + '/' + classes[i]))\n",
        "        num_images += len(dirs)\n",
        "                                \n",
        "    x = np.zeros((num_images, image_size, image_size, 3))\n",
        "    y = np.zeros((num_images, 1))\n",
        "    \n",
        "    current_index = 0\n",
        "    \n",
        "    # Parcours des différents répertoires pour collecter les images\n",
        "    for idx_class in range(len(classes)):\n",
        "        dirs = sorted(os.listdir(data_path + dataset + '/' + classes[idx_class]))\n",
        "        num_images += len(dirs)\n",
        "    \n",
        "        # Chargement des images, \n",
        "        for idx_img in range(len(dirs)):\n",
        "            item = dirs[idx_img]\n",
        "            if os.path.isfile(data_path + dataset + '/' + classes[idx_class] + '_' + item):\n",
        "                # Ouverture de l'image\n",
        "                img = Image.open(data_path + dataset + '/' + classes[idx_class] + '_' + item)\n",
        "                # Redimensionnement de l'image et écriture dans la variable de retour x \n",
        "                img = img.resize((image_size,image_size))\n",
        "                x[current_index] = np.asarray(img)\n",
        "                # Écriture du label associé dans la variable de retour y\n",
        "                y[current_index] = idx_class\n",
        "                current_index += 1\n",
        "                \n",
        "    return x, y"
      ],
      "execution_count": null,
      "outputs": []
    },
    {
      "cell_type": "code",
      "metadata": {
        "colab": {
          "base_uri": "https://localhost:8080/",
          "height": 376
        },
        "id": "G1tz4nIhaTE9",
        "outputId": "31ab60e9-583a-448d-a5d4-92171aceefe9"
      },
      "source": [
        "labels = ['Danger', 'Direction', 'Information','Mandatory','Priority','Prohibitory','Special Regulation','Additional panels','Others']\n",
        "\n",
        "x_train, y_train = load_data(path, labels, dataset='train', image_size=64)\n",
        "print(x_train.shape, y_train.shape)\n",
        "\n",
        "x_val, y_val = load_data(path, labels, dataset='validation', image_size=64)\n",
        "print(x_val.shape, y_val.shape)\n",
        "\n",
        "x_test, y_test = load_data(path, labels, dataset='test', image_size=64)\n",
        "print(x_test.shape, y_test.shape)"
      ],
      "execution_count": null,
      "outputs": [
        {
          "output_type": "error",
          "ename": "FileNotFoundError",
          "evalue": "ignored",
          "traceback": [
            "\u001b[0;31m---------------------------------------------------------------------------\u001b[0m",
            "\u001b[0;31mFileNotFoundError\u001b[0m                         Traceback (most recent call last)",
            "\u001b[0;32m<ipython-input-32-05fdf36ccbe9>\u001b[0m in \u001b[0;36m<module>\u001b[0;34m()\u001b[0m\n\u001b[1;32m      1\u001b[0m \u001b[0mlabels\u001b[0m \u001b[0;34m=\u001b[0m \u001b[0;34m[\u001b[0m\u001b[0;34m'Danger'\u001b[0m\u001b[0;34m,\u001b[0m \u001b[0;34m'Direction'\u001b[0m\u001b[0;34m,\u001b[0m \u001b[0;34m'Information'\u001b[0m\u001b[0;34m,\u001b[0m\u001b[0;34m'Mandatory'\u001b[0m\u001b[0;34m,\u001b[0m\u001b[0;34m'Priority'\u001b[0m\u001b[0;34m,\u001b[0m\u001b[0;34m'Prohibitory'\u001b[0m\u001b[0;34m,\u001b[0m\u001b[0;34m'Special Regulation'\u001b[0m\u001b[0;34m,\u001b[0m\u001b[0;34m'Additional panels'\u001b[0m\u001b[0;34m,\u001b[0m\u001b[0;34m'Others'\u001b[0m\u001b[0;34m]\u001b[0m\u001b[0;34m\u001b[0m\u001b[0;34m\u001b[0m\u001b[0m\n\u001b[1;32m      2\u001b[0m \u001b[0;34m\u001b[0m\u001b[0m\n\u001b[0;32m----> 3\u001b[0;31m \u001b[0mx_train\u001b[0m\u001b[0;34m,\u001b[0m \u001b[0my_train\u001b[0m \u001b[0;34m=\u001b[0m \u001b[0mload_data\u001b[0m\u001b[0;34m(\u001b[0m\u001b[0mpath\u001b[0m\u001b[0;34m,\u001b[0m \u001b[0mlabels\u001b[0m\u001b[0;34m,\u001b[0m \u001b[0mdataset\u001b[0m\u001b[0;34m=\u001b[0m\u001b[0;34m'train'\u001b[0m\u001b[0;34m,\u001b[0m \u001b[0mimage_size\u001b[0m\u001b[0;34m=\u001b[0m\u001b[0;36m64\u001b[0m\u001b[0;34m)\u001b[0m\u001b[0;34m\u001b[0m\u001b[0;34m\u001b[0m\u001b[0m\n\u001b[0m\u001b[1;32m      4\u001b[0m \u001b[0mprint\u001b[0m\u001b[0;34m(\u001b[0m\u001b[0mx_train\u001b[0m\u001b[0;34m.\u001b[0m\u001b[0mshape\u001b[0m\u001b[0;34m,\u001b[0m \u001b[0my_train\u001b[0m\u001b[0;34m.\u001b[0m\u001b[0mshape\u001b[0m\u001b[0;34m)\u001b[0m\u001b[0;34m\u001b[0m\u001b[0;34m\u001b[0m\u001b[0m\n\u001b[1;32m      5\u001b[0m \u001b[0;34m\u001b[0m\u001b[0m\n",
            "\u001b[0;32m<ipython-input-31-f3f5d69dbb15>\u001b[0m in \u001b[0;36mload_data\u001b[0;34m(data_path, classes, dataset, image_size)\u001b[0m\n\u001b[1;32m     13\u001b[0m     \u001b[0mnum_images\u001b[0m \u001b[0;34m=\u001b[0m \u001b[0;36m0\u001b[0m\u001b[0;34m\u001b[0m\u001b[0;34m\u001b[0m\u001b[0m\n\u001b[1;32m     14\u001b[0m     \u001b[0;32mfor\u001b[0m \u001b[0mi\u001b[0m \u001b[0;32min\u001b[0m \u001b[0mrange\u001b[0m\u001b[0;34m(\u001b[0m\u001b[0mlen\u001b[0m\u001b[0;34m(\u001b[0m\u001b[0mclasses\u001b[0m\u001b[0;34m)\u001b[0m\u001b[0;34m)\u001b[0m\u001b[0;34m:\u001b[0m\u001b[0;34m\u001b[0m\u001b[0;34m\u001b[0m\u001b[0m\n\u001b[0;32m---> 15\u001b[0;31m         \u001b[0mdirs\u001b[0m \u001b[0;34m=\u001b[0m \u001b[0msorted\u001b[0m\u001b[0;34m(\u001b[0m\u001b[0mos\u001b[0m\u001b[0;34m.\u001b[0m\u001b[0mlistdir\u001b[0m\u001b[0;34m(\u001b[0m\u001b[0mdata_path\u001b[0m \u001b[0;34m+\u001b[0m \u001b[0mdataset\u001b[0m\u001b[0;34m)\u001b[0m\u001b[0;34m)\u001b[0m\u001b[0;34m\u001b[0m\u001b[0;34m\u001b[0m\u001b[0m\n\u001b[0m\u001b[1;32m     16\u001b[0m         \u001b[0mnum_images\u001b[0m \u001b[0;34m+=\u001b[0m \u001b[0mlen\u001b[0m\u001b[0;34m(\u001b[0m\u001b[0mdirs\u001b[0m\u001b[0;34m)\u001b[0m\u001b[0;34m\u001b[0m\u001b[0;34m\u001b[0m\u001b[0m\n\u001b[1;32m     17\u001b[0m \u001b[0;34m\u001b[0m\u001b[0m\n",
            "\u001b[0;31mFileNotFoundError\u001b[0m: [Errno 2] No such file or directory: './base_de_donnees/train'"
          ]
        }
      ]
    },
    {
      "cell_type": "markdown",
      "metadata": {
        "id": "o4oZriGgaTE-"
      },
      "source": [
        "### Visualisation des images"
      ]
    },
    {
      "cell_type": "code",
      "metadata": {
        "id": "h2eGoZi-aTE-"
      },
      "source": [
        "import matplotlib.pyplot as plt\n",
        "\n",
        "plt.figure(figsize=(12, 12))\n",
        "shuffle_indices = np.random.permutation(9)\n",
        "for i in range(0, 9):\n",
        "    plt.subplot(3, 3, i+1)\n",
        "    image = x_train[shuffle_indices[i]]\n",
        "    plt.title(labels[int(y_train[shuffle_indices[i]])])\n",
        "    plt.imshow(image/255)\n",
        "\n",
        "plt.tight_layout()\n",
        "plt.show()"
      ],
      "execution_count": null,
      "outputs": []
    }
  ]
}